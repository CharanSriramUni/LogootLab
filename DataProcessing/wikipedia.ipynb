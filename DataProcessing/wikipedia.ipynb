{
 "cells": [
  {
   "attachments": {},
   "cell_type": "markdown",
   "metadata": {},
   "source": [
    "to patch a text file with a diff file, use the following command:\n",
    "<br/>\n",
    "<br/>\n",
    "```    patch 0.txt 1.diff ```"
   ]
  },
  {
   "cell_type": "code",
   "execution_count": null,
   "metadata": {},
   "outputs": [],
   "source": [
    "import os\n",
    "import json\n",
    "import mwclient\n",
    "import subprocess\n",
    "from nltk import tokenize"
   ]
  },
  {
   "cell_type": "code",
   "execution_count": null,
   "metadata": {},
   "outputs": [],
   "source": [
    "pages = ['Wikipedia', 'George W. Bush']"
   ]
  },
  {
   "cell_type": "code",
   "execution_count": null,
   "metadata": {},
   "outputs": [],
   "source": [
    "# collect data\n",
    "site = mwclient.Site('en.wikipedia.org')\n",
    "\n",
    "for p in pages:\n",
    "    page = site.pages[p]\n",
    "    try:\n",
    "        for i, (info, content) in enumerate(zip(page.revisions(), page.revisions(prop='content'))):\n",
    "                # First 500 revisions\n",
    "                if i > 1:\n",
    "                    break\n",
    "                os.makedirs(f'/Users/sidsabhnani/Code/CSB/Concurrency/final-project/LogootLab/DataProcessing/text/{p[:10]}', exist_ok=True)\n",
    "                with open(f'/Users/sidsabhnani/Code/CSB/Concurrency/final-project/LogootLab/DataProcessing/text/{p[:10]}/{i}.json', \"w\") as f:\n",
    "                    f.write(json.dumps({ 'info': info, 'content': content}, indent=4))\n",
    "                string = json.dumps(json.loads(open(f'/Users/sidsabhnani/Code/CSB/Concurrency/final-project/LogootLab/DataProcessing/text/{i}.json').read())['content']['*'], indent=4)\n",
    "                # remove backslashes\n",
    "                # string = string.replace('\\\\', '')\n",
    "                with open(f'/Users/sidsabhnani/Code/CSB/Concurrency/final-project/LogootLab/DataProcessing/text/{i}.txt', \"w\") as f:\n",
    "                    f.write('\\n'.join(tokenize.sent_tokenize(string.__repr__())))\n",
    "    except Exception as e:\n",
    "        continue"
   ]
  },
  {
   "cell_type": "code",
   "execution_count": null,
   "metadata": {},
   "outputs": [],
   "source": [
    "for page in pages:\n",
    "    for i in range(500):\n",
    "        string = json.dumps(json.loads(open(f'/Users/sidsabhnani/Code/CSB/Concurrency/final-project/LogootLab/DataProcessing/text/{p[:10]}/{i}.json').read())['content']['*'], indent=4)\n",
    "        # remove backslashes\n",
    "        # string = string.replace('\\\\', '')\n",
    "        with open(f'/Users/sidsabhnani/Code/CSB/Concurrency/final-project/LogootLab/DataProcessing/text/{p[:10]}/{i}.txt', \"w\") as f:\n",
    "            f.write('\\n'.join(tokenize.sent_tokenize(string.__repr__())))"
   ]
  },
  {
   "cell_type": "code",
   "execution_count": null,
   "metadata": {},
   "outputs": [],
   "source": [
    "# generate diffs\n",
    "old = ''.join([line for line in open(f'data/{0}.txt').readlines()])\n",
    "\n",
    "for i in range(1):\n",
    "    new = ''.join([line for line in open(f'data/{i+1}.txt').readlines()])\n",
    "    command = f'diff <( printf \"%s\\n\" {old} ) <( printf \"%s\\n\" {new} )'\n",
    "    diff_process = subprocess.run(['bash', '-c', f'diff <( printf \"%s\\n\" {old} ) <( printf \"%s\\n\" {new} )'], stdout=subprocess.PIPE)\n",
    "    diff = diff_process.stdout.decode('utf-8')\n",
    "    open(f'data/{i}.diff', \"w\").write(diff)\n",
    "    old = new"
   ]
  },
  {
   "cell_type": "code",
   "execution_count": null,
   "metadata": {},
   "outputs": [],
   "source": [
    "old = ''.join([line for line in open(f'data/{0}.txt').readlines()])\n",
    "new = ''.join([line for line in open(f'data/{1}.txt').readlines()])\n",
    "\n",
    "old= \"hello]n\"\n",
    "command = fr'x=\\'{old}\\'; printf \\'%s\\\\n\\' \"$x\"'\n",
    "# print(command)\n",
    "diff_process = subprocess.run(['bash', '-c', command], stdout=subprocess.PIPE)\n",
    "print(diff_process.stdout)"
   ]
  }
 ],
 "metadata": {
  "kernelspec": {
   "display_name": "Python 3",
   "language": "python",
   "name": "python3"
  },
  "language_info": {
   "codemirror_mode": {
    "name": "ipython",
    "version": 3
   },
   "file_extension": ".py",
   "mimetype": "text/x-python",
   "name": "python",
   "nbconvert_exporter": "python",
   "pygments_lexer": "ipython3",
   "version": "3.10.2"
  },
  "orig_nbformat": 4
 },
 "nbformat": 4,
 "nbformat_minor": 2
}
