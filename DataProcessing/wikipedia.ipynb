{
 "cells": [
  {
   "attachments": {},
   "cell_type": "markdown",
   "metadata": {},
   "source": [
    "to patch a text file with a diff file, use the following command:\n",
    "<br/>\n",
    "<br/>\n",
    "```    patch 0.txt 1.diff ```"
   ]
  },
  {
   "cell_type": "code",
   "execution_count": 2,
   "metadata": {},
   "outputs": [],
   "source": [
    "import json\n",
    "import mwclient\n",
    "import subprocess\n",
    "from nltk import tokenize"
   ]
  },
  {
   "cell_type": "code",
   "execution_count": 244,
   "metadata": {},
   "outputs": [],
   "source": [
    "# collect data\n",
    "site = mwclient.Site('en.wikipedia.org')\n",
    "page = site.pages['Wikipedia']\n",
    "\n",
    "for i, (info, content) in enumerate(zip(page.revisions(), page.revisions(prop='content'))):\n",
    "    # First 100 revisions\n",
    "    if i > 1:\n",
    "        break\n",
    "    with open(f'data/{i}.json', \"w\") as f:\n",
    "        f.write(json.dumps({ 'info': info, 'content': content}, indent=4))\n",
    "    string = json.dumps(json.loads(open(f'data/{i}.json').read())['content']['*'], indent=4)\n",
    "    # remove backslashes\n",
    "    # string = string.replace('\\\\', '')\n",
    "    with open(f'data/{i}.txt', \"w\") as f:\n",
    "        f.write('\\n'.join(tokenize.sent_tokenize(string.__repr__())))"
   ]
  },
  {
   "cell_type": "code",
   "execution_count": 247,
   "metadata": {},
   "outputs": [
    {
     "name": "stderr",
     "output_type": "stream",
     "text": [
      "bash: -c: line 672: unexpected EOF while looking for matching `''\n",
      "bash: -c: line 673: syntax error: unexpected end of file\n"
     ]
    }
   ],
   "source": [
    "# generate diffs\n",
    "old = ''.join([line for line in open(f'data/{0}.txt').readlines()])\n",
    "\n",
    "for i in range(1):\n",
    "    new = ''.join([line for line in open(f'data/{i+1}.txt').readlines()])\n",
    "    command = f'diff <( printf \"%s\\n\" {old} ) <( printf \"%s\\n\" {new} )'\n",
    "    diff_process = subprocess.run(['bash', '-c', f'diff <( printf \"%s\\n\" {old} ) <( printf \"%s\\n\" {new} )'], stdout=subprocess.PIPE)\n",
    "    diff = diff_process.stdout.decode('utf-8')\n",
    "    open(f'data/{i}.diff', \"w\").write(diff)\n",
    "    old = new"
   ]
  },
  {
   "cell_type": "code",
   "execution_count": 240,
   "metadata": {},
   "outputs": [
    {
     "name": "stdout",
     "output_type": "stream",
     "text": [
      "b''\n"
     ]
    },
    {
     "name": "stderr",
     "output_type": "stream",
     "text": [
      "bash: -c: line 0: syntax error near unexpected token `disambiguation'\n",
      "bash: -c: line 0: `x='\"{{Short description|Free multilingual, online, crowdsourced encyclopedia}}\\n{{About|the online encyclopedia|Wikipedia's home page|Main Page|10=other uses|11=Wikipedia (disambiguation)|the primary English-language Wikipedia|English Wikipedia}}{{Redirect|The Free Encyclopedia|the concept of a free encyclopedia|Encyclopedia#Free encyclopedias}}\\n{{Pp-protected|small=yes}}\\n{{Pp-move-indef}}\\n{{Use mdy dates|date=December 2022}}\\n{{Use American English|date=June 2019}}\\n{{Infobox website\\n| name                 = Wikipedia\\n| logo                 = [[File:Wikipedia-v2-logo.svg|150px|frameless|An incomplete sphere made of large, white jigsaw puzzle pieces.'\n"
     ]
    }
   ],
   "source": [
    "old = ''.join([line for line in open(f'data/{0}.txt').readlines()])\n",
    "new = ''.join([line for line in open(f'data/{1}.txt').readlines()])\n",
    "\n",
    "old= \"hello]n\"\n",
    "command = fr'x=\\'{old}\\'; printf \\'%s\\\\n\\' \"$x\"'\n",
    "# print(command)\n",
    "diff_process = subprocess.run(['bash', '-c', command], stdout=subprocess.PIPE)\n",
    "print(diff_process.stdout)"
   ]
  }
 ],
 "metadata": {
  "kernelspec": {
   "display_name": "Python 3",
   "language": "python",
   "name": "python3"
  },
  "language_info": {
   "codemirror_mode": {
    "name": "ipython",
    "version": 3
   },
   "file_extension": ".py",
   "mimetype": "text/x-python",
   "name": "python",
   "nbconvert_exporter": "python",
   "pygments_lexer": "ipython3",
   "version": "3.10.2"
  },
  "orig_nbformat": 4
 },
 "nbformat": 4,
 "nbformat_minor": 2
}
