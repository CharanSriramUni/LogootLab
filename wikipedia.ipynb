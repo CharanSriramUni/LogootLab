{
 "cells": [
  {
   "attachments": {},
   "cell_type": "markdown",
   "metadata": {},
   "source": [
    "to patch a text file with a diff file, use the following command:\n",
    "<br/>\n",
    "<br/>\n",
    "```    patch 0.txt 1.diff ```"
   ]
  },
  {
   "cell_type": "code",
   "execution_count": 160,
   "metadata": {},
   "outputs": [],
   "source": [
    "import json\n",
    "import mwclient\n",
    "import subprocess\n",
    "from nltk import tokenize"
   ]
  },
  {
   "cell_type": "code",
   "execution_count": 164,
   "metadata": {},
   "outputs": [],
   "source": [
    "# collect data\n",
    "site = mwclient.Site('en.wikipedia.org')\n",
    "page = site.pages['Wikipedia']\n",
    "\n",
    "for i, (info, content) in enumerate(zip(page.revisions(), page.revisions(prop='content'))):\n",
    "    # First 100 revisions\n",
    "    if i > 100:\n",
    "        break\n",
    "    with open(f'data/{i}.json', \"w\") as f:\n",
    "        f.write(json.dumps({ 'info': info, 'content': content}, indent=4))\n",
    "    string = json.dumps(json.loads(open(f'data/{i}.json').read())['content']['*'], indent=4)\n",
    "    with open(f'data/{i}.txt', \"w\") as f:\n",
    "        f.write('\\n'.join(tokenize.sent_tokenize(string)))"
   ]
  },
  {
   "cell_type": "code",
   "execution_count": 165,
   "metadata": {},
   "outputs": [],
   "source": [
    "# generate diffs\n",
    "old = ''.join([line + \"\\n\" for line in open(f'data/{0}.txt').readlines()])\n",
    "\n",
    "for i in range(100):\n",
    "    new = ''.join([line + \"\\n\" for line in open(f'data/{i+1}.txt').readlines()])\n",
    "    diff_process = subprocess.run(['bash', '-c', f'diff <( printf \"%s\\n\" {old} ) <( printf \"%s\\n\" {new} )'], stdout=subprocess.PIPE)\n",
    "    diff = diff_process.stdout.decode('utf-8')\n",
    "    open(f'data/{i}.diff', \"w\").write(diff)\n",
    "    old = new"
   ]
  }
 ],
 "metadata": {
  "kernelspec": {
   "display_name": "Python 3",
   "language": "python",
   "name": "python3"
  },
  "language_info": {
   "codemirror_mode": {
    "name": "ipython",
    "version": 3
   },
   "file_extension": ".py",
   "mimetype": "text/x-python",
   "name": "python",
   "nbconvert_exporter": "python",
   "pygments_lexer": "ipython3",
   "version": "3.10.2"
  },
  "orig_nbformat": 4
 },
 "nbformat": 4,
 "nbformat_minor": 2
}
